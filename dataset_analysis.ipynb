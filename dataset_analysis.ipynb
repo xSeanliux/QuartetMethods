{
 "cells": [
  {
   "cell_type": "code",
   "execution_count": 1,
   "metadata": {},
   "outputs": [],
   "source": [
    "import os \n",
    "import pandas as pd \n",
    "import glob\n",
    "import numpy as np \n",
    "from functools import reduce\n",
    "import operator"
   ]
  },
  {
   "cell_type": "code",
   "execution_count": 2,
   "metadata": {},
   "outputs": [],
   "source": [
    "datafromR_raw = {\n",
    "    'morph': '''2      mod 222.3750 1.0878113 163.40278 0.6191000\n",
    "3     high 124.3125 2.4689741  90.64000 0.4131859\n",
    "4  modhigh 173.9375 1.5692355 129.14035 0.5784197\n",
    "5 veryhigh  85.6250 2.1563859  60.74194 0.5878860''',\n",
    "    'nomorph': '''2      mod 202.3750 1.0878113 148.80000 0.7462130\n",
    "3     high 104.3125 2.4689741  78.48485 0.4194891\n",
    "4  modhigh 153.9375 1.5692355 115.02500 0.7341812\n",
    "5 veryhigh  65.6250 2.1563859  45.35714 1.1705462'''\n",
    "} "
   ]
  },
  {
   "cell_type": "code",
   "execution_count": 3,
   "metadata": {},
   "outputs": [],
   "source": [
    "# data = {\n",
    "# }\n",
    "\n",
    "# for m, rawtext in datafromR_raw.iteritems():\n",
    "#     data_ = {}\n",
    "#     for row in rawtext.split('\\n'):\n",
    "#         items = row.split()\n",
    "#         config = items[1]\n",
    "#         a = items[2]\n",
    "#         b = items[4]\n",
    "#         data_[config] = [0] * 6\n",
    "#         data[config]\n",
    "#     data[m] = data_\n"
   ]
  },
  {
   "cell_type": "code",
   "execution_count": 4,
   "metadata": {},
   "outputs": [],
   "source": [
    "# FACTORS = [\"0.5\", \"1.0\", \"2.0\", \"4.0\", \"8.0\"]\n",
    "# POLYMORPHISM = [\"low\", \"mod\", \"modhigh\", \"high\", \"veryhigh\"]\n",
    "FACTORS = [ \"1.0\", \"2.0\", \"4.0\", \"8.0\"]\n",
    "POLYMORPHISM = [\"mod\", \"modhigh\", \"high\", \"veryhigh\"]"
   ]
  },
  {
   "cell_type": "code",
   "execution_count": 5,
   "metadata": {},
   "outputs": [],
   "source": [
    "def count_states(values):\n",
    "    # a list of lists of states that each taxa exhibits\n",
    "    all_chars = [(a.split('/')) for a in values]\n",
    "    # e.g. [['0', '1'], ['0'], ['2']]\n",
    "    # flattens the list, remove duplicates, and take the length\n",
    "    return len(set(reduce(\n",
    "        operator.add,\n",
    "        all_chars,\n",
    "        []\n",
    "    )))"
   ]
  },
  {
   "cell_type": "code",
   "execution_count": 6,
   "metadata": {},
   "outputs": [],
   "source": [
    "def get_setting(f, p, morph_chars=False):\n",
    "    if morph_chars:\n",
    "        csvs = glob.glob(f\"./example/simulated_data-{f}/{p}_noborrowing/*.csv\")\n",
    "    else:\n",
    "        csvs = glob.glob(f\"./example/simulated_data-{f}/{p}_noborrowing/no-morph/*.csv\")\n",
    "\n",
    "    TREES = 8\n",
    "    REPLICAS = 2\n",
    "    goodcsvs = [f\"sim_tree{t}_{r}.csv\" for t in range(1, TREES+1) for r in range(1, 1+REPLICAS)]\n",
    "    csvs = list(filter(\n",
    "        lambda c: any([mask in c for mask in goodcsvs]),\n",
    "        csvs\n",
    "    ))\n",
    "    \n",
    "    means = []\n",
    "    for csv_path in csvs:\n",
    "        df = pd.read_csv(csv_path).iloc[:, 3:].astype(str) # remove metadata and cast to string\n",
    "        all_values = np.array(list(map(count_states, df.values)))\n",
    "        means.append(all_values.mean()) # get mean no. of states per character for this dataset\n",
    "    \n",
    "    # print(f'{p}{\" \" * (10 - len(p))}\\t${np.array(means).mean():.2f}$') # print overall mean for this setting\n",
    "    return np.array(means).mean()"
   ]
  },
  {
   "cell_type": "code",
   "execution_count": 7,
   "metadata": {},
   "outputs": [
    {
     "name": "stdout",
     "output_type": "stream",
     "text": [
      "====== m = False ====== \n",
      "mod &  & & $14.88$ & & & $27.55$ \\\\\n",
      "modhigh &  & & $15.42$ & & & $28.27$ \\\\\n",
      "high &  & & $15.76$ & & & $28.74$ \\\\\n",
      "veryhigh &  & & $15.95$ & & & $29.14$ \\\\\n",
      "====== m = True ====== \n",
      "mod &  & & $14.52$ & & & $27.29$ \\\\\n",
      "modhigh &  & & $15.03$ & & & $27.96$ \\\\\n",
      "high &  & & $15.35$ & & & $28.41$ \\\\\n",
      "veryhigh &  & & $15.53$ & & & $28.79$ \\\\\n"
     ]
    }
   ],
   "source": [
    "\n",
    "for m in [False, True]:\n",
    "    print(f\"====== m = {m} ====== \")\n",
    "    for p in POLYMORPHISM:\n",
    "        num_chars = []\n",
    "        for f in [\"1.0\", \"8.0\"]:\n",
    "            # print(f'f = {f}')\n",
    "            num_chars.append(get_setting(f, p, morph_chars=m))\n",
    "        print(f'{p} &  & & ${num_chars[0]:.2f}$ & & & ${num_chars[1]:.2f}$ \\\\\\\\')"
   ]
  },
  {
   "cell_type": "code",
   "execution_count": 8,
   "metadata": {},
   "outputs": [],
   "source": [
    "import re "
   ]
  },
  {
   "cell_type": "code",
   "execution_count": 9,
   "metadata": {},
   "outputs": [],
   "source": [
    "t = '''Low &  &$134.96$ &$5.24$& $265.18$ & $120.05$&$9.10$\\\\\n",
    "Moderate &  & $116.46$ &$5.41$& $227.61$ & $103.58$&$9.32$\\\\\n",
    "Mod. High & & $98.67$ &$5.55$& $192.5625$ & $88.60$&$9.51$\\\\\n",
    "High &  & $82.25$ &$5.70$& $155.6406$ & $72.85$&$9.73$\\\\\n",
    "Very High &  &  &&  & $59.33$&$9.86$\\\\'''"
   ]
  },
  {
   "cell_type": "code",
   "execution_count": 10,
   "metadata": {},
   "outputs": [],
   "source": [
    "df = pd.read_csv(\"/home/zxliu2/QuartetMethods/example/simulated_data_small-8.0/veryhigh_noborrowing/sim_tree1_1.csv\")"
   ]
  },
  {
   "cell_type": "code",
   "execution_count": 11,
   "metadata": {},
   "outputs": [
    {
     "name": "stdout",
     "output_type": "stream",
     "text": [
      "['lpmh0' 'lpmh0' 1.0 '2' '2' '84' '82' '74/75' '61' '0/73' '0/335' '78'\n",
      " '80/75']\n"
     ]
    }
   ],
   "source": [
    "row = df.values[100]\n",
    "print(row)"
   ]
  },
  {
   "cell_type": "code",
   "execution_count": 12,
   "metadata": {},
   "outputs": [],
   "source": [
    "class Frequenter():\n",
    "    # supports initialisation with a list of items\n",
    "    # keeps a frequency table \n",
    "    # supports querying of a list of items, returning the most frquent out of them. \n",
    "    # ties are broken arbitrarily.\n",
    "    def __init__(self, arr):\n",
    "        self.frqs = {}\n",
    "        for x in arr:\n",
    "            if x not in self.frqs:\n",
    "                self.frqs[x] = 0\n",
    "            self.frqs[x] += 1\n",
    "    \n",
    "    def query(self, k):\n",
    "        return max(k, key=lambda x : self.frqs[x])\n",
    "\n"
   ]
  },
  {
   "cell_type": "code",
   "execution_count": 13,
   "metadata": {},
   "outputs": [],
   "source": [
    "def process_row(row):\n",
    "    data = row[3:]\n",
    "    data = [x.split('/') for x in data]\n",
    "    frq = Frequenter(reduce(\n",
    "        lambda acc, x : acc + x,\n",
    "        data,\n",
    "        [] \n",
    "    ))\n",
    "    data = [ frq.query(k) for k in data ]\n",
    "    row[3:] = data\n",
    "    return row"
   ]
  },
  {
   "cell_type": "code",
   "execution_count": 14,
   "metadata": {},
   "outputs": [],
   "source": [
    "df.values[0][2] = 7122"
   ]
  },
  {
   "cell_type": "code",
   "execution_count": 15,
   "metadata": {},
   "outputs": [],
   "source": [
    "for i, row in enumerate(df.values):\n",
    "    df.iloc[i, :] = process_row(row)"
   ]
  },
  {
   "cell_type": "code",
   "execution_count": 4,
   "metadata": {},
   "outputs": [],
   "source": [
    "import glob, shutil, os\n",
    "import tqdm"
   ]
  },
  {
   "cell_type": "code",
   "execution_count": 5,
   "metadata": {},
   "outputs": [],
   "source": [
    "to_del = glob.glob(\"/home/zxliu2/QuartetMethods/outputs_small/*/*/*/ASTRAL([0-9],[0-9])\")"
   ]
  },
  {
   "cell_type": "code",
   "execution_count": 7,
   "metadata": {},
   "outputs": [
    {
     "name": "stderr",
     "output_type": "stream",
     "text": [
      "0it [00:00, ?it/s]\n"
     ]
    }
   ],
   "source": [
    "for file in tqdm.tqdm(to_del):\n",
    "    shutil.rmtree(file)"
   ]
  },
  {
   "cell_type": "code",
   "execution_count": null,
   "metadata": {},
   "outputs": [],
   "source": []
  }
 ],
 "metadata": {
  "kernelspec": {
   "display_name": "phylo",
   "language": "python",
   "name": "python3"
  },
  "language_info": {
   "codemirror_mode": {
    "name": "ipython",
    "version": 3
   },
   "file_extension": ".py",
   "mimetype": "text/x-python",
   "name": "python",
   "nbconvert_exporter": "python",
   "pygments_lexer": "ipython3",
   "version": "3.12.1"
  }
 },
 "nbformat": 4,
 "nbformat_minor": 2
}
