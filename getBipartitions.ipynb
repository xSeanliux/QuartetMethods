{
 "cells": [
  {
   "cell_type": "code",
   "execution_count": 1,
   "metadata": {},
   "outputs": [],
   "source": [
    "import numpy as np\n",
    "import pandas as df \n",
    "import os"
   ]
  },
  {
   "cell_type": "code",
   "execution_count": null,
   "metadata": {},
   "outputs": [],
   "source": [
    "def nexus_to_newick(trees_path): # expects a path to a .trees file under GA/ in NEXUS format. Reads all trees.\n",
    "    # nexus_to_newick(\"/home/zxliu2/QuartetMethods/outputs_no_morph/inference_outputs-2.0/high_noborrowing/GA/trees/high_1_1.trees\")\n",
    "    with open(trees_path, \"r\") as f:\n",
    "        data = Phylo.NexusIO.parse(f)\n",
    "        output = StringIO()\n",
    "        written_trees = Phylo.NewickIO.write(data, output, plain=True) # plain = True removes branch lengths which aren't important\n",
    "        newick_trees = output.getvalue().split('\\n')[:-1] # there's a newline following the last tree\n",
    "        def resolve_tree(newick_tree):\n",
    "            tree = treeswift.read_tree(newick_tree, schema='newick')\n",
    "            #print(newick_tree)\n",
    "            tree.resolve_polytomies()\n",
    "            return tree.newick()\n",
    "        trees_resolved = list(map(\n",
    "        resolve_tree \n",
    "        , newick_trees))\n",
    "        output.close()\n",
    "        return trees_resolved"
   ]
  },
  {
   "cell_type": "code",
   "execution_count": null,
   "metadata": {},
   "outputs": [],
   "source": []
  }
 ],
 "metadata": {
  "kernelspec": {
   "display_name": "phylo",
   "language": "python",
   "name": "python3"
  },
  "language_info": {
   "codemirror_mode": {
    "name": "ipython",
    "version": 3
   },
   "file_extension": ".py",
   "mimetype": "text/x-python",
   "name": "python",
   "nbconvert_exporter": "python",
   "pygments_lexer": "ipython3",
   "version": "3.12.1"
  }
 },
 "nbformat": 4,
 "nbformat_minor": 2
}
